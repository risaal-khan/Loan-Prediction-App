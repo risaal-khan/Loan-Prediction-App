{
 "cells": [
  {
   "cell_type": "code",
   "execution_count": 150,
   "id": "d4bf1b18-3836-4b01-aa1a-b512eeb33fc2",
   "metadata": {},
   "outputs": [
    {
     "data": {
      "text/html": [
       "<div>\n",
       "<style scoped>\n",
       "    .dataframe tbody tr th:only-of-type {\n",
       "        vertical-align: middle;\n",
       "    }\n",
       "\n",
       "    .dataframe tbody tr th {\n",
       "        vertical-align: top;\n",
       "    }\n",
       "\n",
       "    .dataframe thead th {\n",
       "        text-align: right;\n",
       "    }\n",
       "</style>\n",
       "<table border=\"1\" class=\"dataframe\">\n",
       "  <thead>\n",
       "    <tr style=\"text-align: right;\">\n",
       "      <th></th>\n",
       "      <th>Loan_ID</th>\n",
       "      <th>Gender</th>\n",
       "      <th>Married</th>\n",
       "      <th>Dependents</th>\n",
       "      <th>Education</th>\n",
       "      <th>Self_Employed</th>\n",
       "      <th>ApplicantIncome</th>\n",
       "      <th>CoapplicantIncome</th>\n",
       "      <th>LoanAmount</th>\n",
       "      <th>Loan_Amount_Term</th>\n",
       "      <th>Credit_History</th>\n",
       "      <th>Property_Area</th>\n",
       "      <th>Loan_Status</th>\n",
       "    </tr>\n",
       "  </thead>\n",
       "  <tbody>\n",
       "    <tr>\n",
       "      <th>0</th>\n",
       "      <td>LP001002</td>\n",
       "      <td>Male</td>\n",
       "      <td>No</td>\n",
       "      <td>0</td>\n",
       "      <td>Graduate</td>\n",
       "      <td>No</td>\n",
       "      <td>5849</td>\n",
       "      <td>0.0</td>\n",
       "      <td>NaN</td>\n",
       "      <td>360.0</td>\n",
       "      <td>1.0</td>\n",
       "      <td>Urban</td>\n",
       "      <td>Y</td>\n",
       "    </tr>\n",
       "    <tr>\n",
       "      <th>1</th>\n",
       "      <td>LP001003</td>\n",
       "      <td>Male</td>\n",
       "      <td>Yes</td>\n",
       "      <td>1</td>\n",
       "      <td>Graduate</td>\n",
       "      <td>No</td>\n",
       "      <td>4583</td>\n",
       "      <td>1508.0</td>\n",
       "      <td>128.0</td>\n",
       "      <td>360.0</td>\n",
       "      <td>1.0</td>\n",
       "      <td>Rural</td>\n",
       "      <td>N</td>\n",
       "    </tr>\n",
       "    <tr>\n",
       "      <th>2</th>\n",
       "      <td>LP001005</td>\n",
       "      <td>Male</td>\n",
       "      <td>Yes</td>\n",
       "      <td>0</td>\n",
       "      <td>Graduate</td>\n",
       "      <td>Yes</td>\n",
       "      <td>3000</td>\n",
       "      <td>0.0</td>\n",
       "      <td>66.0</td>\n",
       "      <td>360.0</td>\n",
       "      <td>1.0</td>\n",
       "      <td>Urban</td>\n",
       "      <td>Y</td>\n",
       "    </tr>\n",
       "    <tr>\n",
       "      <th>3</th>\n",
       "      <td>LP001006</td>\n",
       "      <td>Male</td>\n",
       "      <td>Yes</td>\n",
       "      <td>0</td>\n",
       "      <td>Not Graduate</td>\n",
       "      <td>No</td>\n",
       "      <td>2583</td>\n",
       "      <td>2358.0</td>\n",
       "      <td>120.0</td>\n",
       "      <td>360.0</td>\n",
       "      <td>1.0</td>\n",
       "      <td>Urban</td>\n",
       "      <td>Y</td>\n",
       "    </tr>\n",
       "    <tr>\n",
       "      <th>4</th>\n",
       "      <td>LP001008</td>\n",
       "      <td>Male</td>\n",
       "      <td>No</td>\n",
       "      <td>0</td>\n",
       "      <td>Graduate</td>\n",
       "      <td>No</td>\n",
       "      <td>6000</td>\n",
       "      <td>0.0</td>\n",
       "      <td>141.0</td>\n",
       "      <td>360.0</td>\n",
       "      <td>1.0</td>\n",
       "      <td>Urban</td>\n",
       "      <td>Y</td>\n",
       "    </tr>\n",
       "  </tbody>\n",
       "</table>\n",
       "</div>"
      ],
      "text/plain": [
       "    Loan_ID Gender Married Dependents     Education Self_Employed  \\\n",
       "0  LP001002   Male      No          0      Graduate            No   \n",
       "1  LP001003   Male     Yes          1      Graduate            No   \n",
       "2  LP001005   Male     Yes          0      Graduate           Yes   \n",
       "3  LP001006   Male     Yes          0  Not Graduate            No   \n",
       "4  LP001008   Male      No          0      Graduate            No   \n",
       "\n",
       "   ApplicantIncome  CoapplicantIncome  LoanAmount  Loan_Amount_Term  \\\n",
       "0             5849                0.0         NaN             360.0   \n",
       "1             4583             1508.0       128.0             360.0   \n",
       "2             3000                0.0        66.0             360.0   \n",
       "3             2583             2358.0       120.0             360.0   \n",
       "4             6000                0.0       141.0             360.0   \n",
       "\n",
       "   Credit_History Property_Area Loan_Status  \n",
       "0             1.0         Urban           Y  \n",
       "1             1.0         Rural           N  \n",
       "2             1.0         Urban           Y  \n",
       "3             1.0         Urban           Y  \n",
       "4             1.0         Urban           Y  "
      ]
     },
     "execution_count": 150,
     "metadata": {},
     "output_type": "execute_result"
    }
   ],
   "source": [
    "import pandas as pd\n",
    "\n",
    "train_df = pd.read_csv(\"datasets/train.csv\")\n",
    "test_df = pd.read_csv(\"datasets/test.csv\")\n",
    "train_df.head()"
   ]
  },
  {
   "cell_type": "code",
   "execution_count": 151,
   "id": "a57691ca-ef62-41b5-b36b-7d8e698a3e6a",
   "metadata": {},
   "outputs": [],
   "source": [
    "train_df.drop('Loan_ID', axis=1, inplace=True)\n",
    "test_df.drop('Loan_ID', axis=1, inplace=True)"
   ]
  },
  {
   "cell_type": "code",
   "execution_count": 134,
   "id": "a868e4fb-4566-464d-b207-f7dbffc208b1",
   "metadata": {},
   "outputs": [],
   "source": [
    "#train_df = train_df[train_df.isnull().sum(axis=1) < 3]"
   ]
  },
  {
   "cell_type": "code",
   "execution_count": 152,
   "id": "e3868acc-0491-4b9f-a8c2-49c724c1b4a8",
   "metadata": {},
   "outputs": [],
   "source": [
    "for col in [\"Gender\", \"Married\", \"Dependents\", \"Self_Employed\", \"Loan_Amount_Term\", \"Credit_History\"]:\n",
    "    train_df[col] = train_df[col].fillna(train_df[col].mode()[0])"
   ]
  },
  {
   "cell_type": "code",
   "execution_count": 153,
   "id": "4f1fe6e7-a780-4588-a3a2-94ce00ce0cc1",
   "metadata": {},
   "outputs": [],
   "source": [
    "train_df.LoanAmount = train_df.LoanAmount.fillna(train_df.LoanAmount.median())"
   ]
  },
  {
   "cell_type": "code",
   "execution_count": 154,
   "id": "8475360e-7480-4ffa-add1-fe59bca43525",
   "metadata": {},
   "outputs": [],
   "source": [
    "import seaborn as sns\n",
    "import numpy as np\n",
    "import matplotlib.pyplot as plt"
   ]
  },
  {
   "cell_type": "code",
   "execution_count": 11,
   "id": "8f3fe3f8-65e4-4f4a-b6f3-876bb126a0ac",
   "metadata": {},
   "outputs": [
    {
     "data": {
      "image/png": "[encoded data removed]",
      "text/plain": [
       "<Figure size 640x480 with 1 Axes>"
      ]
     },
     "metadata": {},
     "output_type": "display_data"
    }
   ],
   "source": [
    "sns.histplot(train_df.LoanAmount, bins=30, kde=True)\n",
    "plt.show()"
   ]
  },
  {
   "cell_type": "code",
   "execution_count": 155,
   "id": "bdc7caa9-0e4b-4817-8af5-d5190c7549c9",
   "metadata": {},
   "outputs": [],
   "source": [
    "train_df[\"Total_income\"] = train_df[\"ApplicantIncome\"] + train_df[\"CoapplicantIncome\"]"
   ]
  },
  {
   "cell_type": "code",
   "execution_count": 13,
   "id": "a04e0421-addf-464e-a0c5-057f7ada2094",
   "metadata": {},
   "outputs": [
    {
     "data": {
      "image/png": "[encoded data removed]",
      "text/plain": [
       "<Figure size 640x480 with 1 Axes>"
      ]
     },
     "metadata": {},
     "output_type": "display_data"
    }
   ],
   "source": [
    "sns.histplot(train_df.Total_income, bins=30, kde=True)\n",
    "plt.show()"
   ]
  },
  {
   "cell_type": "code",
   "execution_count": 156,
   "id": "6d1e11a1-a642-4625-8909-f79f5df42ada",
   "metadata": {},
   "outputs": [],
   "source": [
    "# Income-to-Loan Ratio\n",
    "# This feature captures how much burden the loan is compared to the applicant’s income.\n",
    "# A lower ratio might indicate higher chances of approval.\n",
    "\n",
    "train_df[\"Income_Loan_Ratio\"] = train_df[\"Total_income\"] / train_df[\"LoanAmount\"]"
   ]
  },
  {
   "cell_type": "code",
   "execution_count": 157,
   "id": "ac56b0ed-94f7-4214-a5b6-455bc82a8115",
   "metadata": {},
   "outputs": [],
   "source": [
    "# EMI (Equated Monthly Installment)\n",
    "# Helps determine how much of their monthly income goes toward the loan.\n",
    "# Higher EMI might indicate a riskier loan.\n",
    "\n",
    "train_df[\"EMI\"] = train_df[\"LoanAmount\"] / train_df[\"Loan_Amount_Term\"]"
   ]
  },
  {
   "cell_type": "code",
   "execution_count": 158,
   "id": "c6b38400-fdd8-47f7-95c1-8317ada603d4",
   "metadata": {},
   "outputs": [],
   "source": [
    "# Loan-to-Income Ratio\n",
    "# This helps identify how much the loan is relative to income.\n",
    "\n",
    "train_df[\"Loan_to_Income\"] = train_df[\"LoanAmount\"] / train_df[\"Total_income\"]"
   ]
  },
  {
   "cell_type": "code",
   "execution_count": 159,
   "id": "96f2a7cb-207e-4d2c-a052-b8e93a5273d1",
   "metadata": {},
   "outputs": [],
   "source": [
    "train_df.LoanAmount = np.log1p(train_df.LoanAmount)\n",
    "train_df.Total_income = np.log1p(train_df.Total_income)"
   ]
  },
  {
   "cell_type": "code",
   "execution_count": 18,
   "id": "36b707a1-4253-460d-97d6-ebbcf05cca89",
   "metadata": {},
   "outputs": [
    {
     "data": {
      "text/html": [
       "<div>\n",
       "<style scoped>\n",
       "    .dataframe tbody tr th:only-of-type {\n",
       "        vertical-align: middle;\n",
       "    }\n",
       "\n",
       "    .dataframe tbody tr th {\n",
       "        vertical-align: top;\n",
       "    }\n",
       "\n",
       "    .dataframe thead th {\n",
       "        text-align: right;\n",
       "    }\n",
       "</style>\n",
       "<table border=\"1\" class=\"dataframe\">\n",
       "  <thead>\n",
       "    <tr style=\"text-align: right;\">\n",
       "      <th></th>\n",
       "      <th>Gender</th>\n",
       "      <th>Married</th>\n",
       "      <th>Dependents</th>\n",
       "      <th>Education</th>\n",
       "      <th>Self_Employed</th>\n",
       "      <th>ApplicantIncome</th>\n",
       "      <th>CoapplicantIncome</th>\n",
       "      <th>LoanAmount</th>\n",
       "      <th>Loan_Amount_Term</th>\n",
       "      <th>Credit_History</th>\n",
       "      <th>Property_Area</th>\n",
       "      <th>Loan_Status</th>\n",
       "      <th>Total_income</th>\n",
       "      <th>Income_Loan_Ratio</th>\n",
       "      <th>EMI</th>\n",
       "      <th>Loan_to_Income</th>\n",
       "    </tr>\n",
       "  </thead>\n",
       "  <tbody>\n",
       "    <tr>\n",
       "      <th>0</th>\n",
       "      <td>Male</td>\n",
       "      <td>No</td>\n",
       "      <td>0</td>\n",
       "      <td>Graduate</td>\n",
       "      <td>No</td>\n",
       "      <td>5849</td>\n",
       "      <td>0.0</td>\n",
       "      <td>4.859812</td>\n",
       "      <td>360.0</td>\n",
       "      <td>1.0</td>\n",
       "      <td>Urban</td>\n",
       "      <td>Y</td>\n",
       "      <td>8.674197</td>\n",
       "      <td>45.695312</td>\n",
       "      <td>0.355556</td>\n",
       "      <td>0.021884</td>\n",
       "    </tr>\n",
       "    <tr>\n",
       "      <th>1</th>\n",
       "      <td>Male</td>\n",
       "      <td>Yes</td>\n",
       "      <td>1</td>\n",
       "      <td>Graduate</td>\n",
       "      <td>No</td>\n",
       "      <td>4583</td>\n",
       "      <td>1508.0</td>\n",
       "      <td>4.859812</td>\n",
       "      <td>360.0</td>\n",
       "      <td>1.0</td>\n",
       "      <td>Rural</td>\n",
       "      <td>N</td>\n",
       "      <td>8.714732</td>\n",
       "      <td>47.585938</td>\n",
       "      <td>0.355556</td>\n",
       "      <td>0.021015</td>\n",
       "    </tr>\n",
       "    <tr>\n",
       "      <th>2</th>\n",
       "      <td>Male</td>\n",
       "      <td>Yes</td>\n",
       "      <td>0</td>\n",
       "      <td>Graduate</td>\n",
       "      <td>Yes</td>\n",
       "      <td>3000</td>\n",
       "      <td>0.0</td>\n",
       "      <td>4.204693</td>\n",
       "      <td>360.0</td>\n",
       "      <td>1.0</td>\n",
       "      <td>Urban</td>\n",
       "      <td>Y</td>\n",
       "      <td>8.006701</td>\n",
       "      <td>45.454545</td>\n",
       "      <td>0.183333</td>\n",
       "      <td>0.022000</td>\n",
       "    </tr>\n",
       "    <tr>\n",
       "      <th>3</th>\n",
       "      <td>Male</td>\n",
       "      <td>Yes</td>\n",
       "      <td>0</td>\n",
       "      <td>Not Graduate</td>\n",
       "      <td>No</td>\n",
       "      <td>2583</td>\n",
       "      <td>2358.0</td>\n",
       "      <td>4.795791</td>\n",
       "      <td>360.0</td>\n",
       "      <td>1.0</td>\n",
       "      <td>Urban</td>\n",
       "      <td>Y</td>\n",
       "      <td>8.505525</td>\n",
       "      <td>41.175000</td>\n",
       "      <td>0.333333</td>\n",
       "      <td>0.024287</td>\n",
       "    </tr>\n",
       "    <tr>\n",
       "      <th>4</th>\n",
       "      <td>Male</td>\n",
       "      <td>No</td>\n",
       "      <td>0</td>\n",
       "      <td>Graduate</td>\n",
       "      <td>No</td>\n",
       "      <td>6000</td>\n",
       "      <td>0.0</td>\n",
       "      <td>4.955827</td>\n",
       "      <td>360.0</td>\n",
       "      <td>1.0</td>\n",
       "      <td>Urban</td>\n",
       "      <td>Y</td>\n",
       "      <td>8.699681</td>\n",
       "      <td>42.553191</td>\n",
       "      <td>0.391667</td>\n",
       "      <td>0.023500</td>\n",
       "    </tr>\n",
       "  </tbody>\n",
       "</table>\n",
       "</div>"
      ],
      "text/plain": [
       "  Gender Married Dependents     Education Self_Employed  ApplicantIncome  \\\n",
       "0   Male      No          0      Graduate            No             5849   \n",
       "1   Male     Yes          1      Graduate            No             4583   \n",
       "2   Male     Yes          0      Graduate           Yes             3000   \n",
       "3   Male     Yes          0  Not Graduate            No             2583   \n",
       "4   Male      No          0      Graduate            No             6000   \n",
       "\n",
       "   CoapplicantIncome  LoanAmount  Loan_Amount_Term  Credit_History  \\\n",
       "0                0.0    4.859812             360.0             1.0   \n",
       "1             1508.0    4.859812             360.0             1.0   \n",
       "2                0.0    4.204693             360.0             1.0   \n",
       "3             2358.0    4.795791             360.0             1.0   \n",
       "4                0.0    4.955827             360.0             1.0   \n",
       "\n",
       "  Property_Area Loan_Status  Total_income  Income_Loan_Ratio       EMI  \\\n",
       "0         Urban           Y      8.674197          45.695312  0.355556   \n",
       "1         Rural           N      8.714732          47.585938  0.355556   \n",
       "2         Urban           Y      8.006701          45.454545  0.183333   \n",
       "3         Urban           Y      8.505525          41.175000  0.333333   \n",
       "4         Urban           Y      8.699681          42.553191  0.391667   \n",
       "\n",
       "   Loan_to_Income  \n",
       "0        0.021884  \n",
       "1        0.021015  \n",
       "2        0.022000  \n",
       "3        0.024287  \n",
       "4        0.023500  "
      ]
     },
     "execution_count": 18,
     "metadata": {},
     "output_type": "execute_result"
    }
   ],
   "source": [
    "train_df.head()"
   ]
  },
  {
   "cell_type": "code",
   "execution_count": 19,
   "id": "a823d154-31b2-45e0-a961-a22f6066b28d",
   "metadata": {},
   "outputs": [
    {
     "data": {
      "image/png": "[encoded data removed]",
      "text/plain": [
       "<Figure size 640x480 with 1 Axes>"
      ]
     },
     "metadata": {},
     "output_type": "display_data"
    }
   ],
   "source": [
    "sns.histplot(train_df.LoanAmount, bins=30, kde=True)\n",
    "plt.show()"
   ]
  },
  {
   "cell_type": "code",
   "execution_count": 20,
   "id": "07778184-15ba-4d7e-8498-e7026d5e7354",
   "metadata": {},
   "outputs": [
    {
     "data": {
      "image/png": "[encoded data removed]",
      "text/plain": [
       "<Figure size 640x480 with 1 Axes>"
      ]
     },
     "metadata": {},
     "output_type": "display_data"
    }
   ],
   "source": [
    "sns.histplot(train_df.Total_income, bins=30, kde=True)\n",
    "plt.show()"
   ]
  },
  {
   "cell_type": "code",
   "execution_count": 139,
   "id": "daa99f6d-8731-4de0-b9bb-8d44d44ade94",
   "metadata": {},
   "outputs": [
    {
     "data": {
      "text/plain": [
       "Index(['Gender', 'Married', 'Dependents', 'Education', 'Self_Employed',\n",
       "       'ApplicantIncome', 'CoapplicantIncome', 'LoanAmount',\n",
       "       'Loan_Amount_Term', 'Credit_History', 'Loan_Status', 'Total_income',\n",
       "       'Income_Loan_Ratio', 'EMI', 'Loan_to_Income', 'Property_Area_Rural',\n",
       "       'Property_Area_Semiurban', 'Property_Area_Urban'],\n",
       "      dtype='object')"
      ]
     },
     "execution_count": 139,
     "metadata": {},
     "output_type": "execute_result"
    }
   ],
   "source": [
    "train_df.columns"
   ]
  },
  {
   "cell_type": "code",
   "execution_count": 140,
   "id": "ac38b6ee-41a6-4c70-9758-5d1d4b754149",
   "metadata": {},
   "outputs": [
    {
     "data": {
      "image/png": "[encoded data removed]",
      "text/plain": [
       "<Figure size 640x480 with 1 Axes>"
      ]
     },
     "metadata": {},
     "output_type": "display_data"
    }
   ],
   "source": [
    "sns.histplot(train_df.Income_Loan_Ratio, bins=30, kde=True)\n",
    "plt.show()"
   ]
  },
  {
   "cell_type": "code",
   "execution_count": 141,
   "id": "c2ff38a6-5432-466c-b568-eac46f29953d",
   "metadata": {},
   "outputs": [
    {
     "data": {
      "image/png": "[encoded data removed]",
      "text/plain": [
       "<Figure size 640x480 with 1 Axes>"
      ]
     },
     "metadata": {},
     "output_type": "display_data"
    }
   ],
   "source": [
    "sns.histplot(train_df.EMI, bins=30, kde=True)\n",
    "plt.show()"
   ]
  },
  {
   "cell_type": "code",
   "execution_count": 142,
   "id": "6162d2c4-f693-4e83-b240-9ac60489bc1c",
   "metadata": {},
   "outputs": [
    {
     "data": {
      "image/png": "[encoded data removed]",
      "text/plain": [
       "<Figure size 640x480 with 1 Axes>"
      ]
     },
     "metadata": {},
     "output_type": "display_data"
    }
   ],
   "source": [
    "sns.histplot(train_df.Loan_to_Income, bins=30, kde=True)\n",
    "plt.show()"
   ]
  },
  {
   "cell_type": "code",
   "execution_count": 160,
   "id": "acebe77f-3704-4442-ab63-0dbaa2819764",
   "metadata": {},
   "outputs": [],
   "source": [
    "train_df.Income_Loan_Ratio = np.log1p(train_df.Income_Loan_Ratio)\n",
    "train_df.Loan_to_Income = np.log1p(train_df.Loan_to_Income)\n",
    "train_df.EMI = np.log1p(train_df.EMI)"
   ]
  },
  {
   "cell_type": "code",
   "execution_count": 161,
   "id": "22188874-5867-41e2-a1e5-b7cc689c46a6",
   "metadata": {},
   "outputs": [
    {
     "data": {
      "text/plain": [
       "Gender               11\n",
       "Married               0\n",
       "Dependents           10\n",
       "Education             0\n",
       "Self_Employed        23\n",
       "ApplicantIncome       0\n",
       "CoapplicantIncome     0\n",
       "LoanAmount            5\n",
       "Loan_Amount_Term      6\n",
       "Credit_History       29\n",
       "Property_Area         0\n",
       "dtype: int64"
      ]
     },
     "execution_count": 161,
     "metadata": {},
     "output_type": "execute_result"
    }
   ],
   "source": [
    "test_df.isnull().sum()"
   ]
  },
  {
   "cell_type": "code",
   "execution_count": 163,
   "id": "e285e1b9-ce13-4cc6-9a32-4ef25eba59a9",
   "metadata": {},
   "outputs": [],
   "source": [
    "for col in [\"Gender\", \"Dependents\", \"Self_Employed\", \"Loan_Amount_Term\", \"Credit_History\"]:\n",
    "    test_df[col] = test_df[col].fillna(train_df[col].mode()[0])\n",
    "\n",
    "test_df.LoanAmount = test_df.LoanAmount.fillna(train_df.LoanAmount.median())"
   ]
  },
  {
   "cell_type": "code",
   "execution_count": 165,
   "id": "ea46c1b0-7432-4941-9297-a7192f463e1a",
   "metadata": {},
   "outputs": [],
   "source": [
    "test_df[\"Total_income\"] = test_df[\"ApplicantIncome\"] + test_df[\"CoapplicantIncome\"]\n",
    "test_df[\"Income_Loan_Ratio\"] = test_df[\"Total_income\"] / test_df[\"LoanAmount\"]\n",
    "test_df[\"EMI\"] = test_df[\"LoanAmount\"] / test_df[\"Loan_Amount_Term\"]\n",
    "test_df[\"Loan_to_Income\"] = test_df[\"LoanAmount\"] / test_df[\"Total_income\"]"
   ]
  },
  {
   "cell_type": "code",
   "execution_count": 166,
   "id": "81141f90-069a-48cd-a33d-661216abadd3",
   "metadata": {},
   "outputs": [],
   "source": [
    "import numpy as np\n",
    "\n",
    "test_df.LoanAmount = np.log1p(test_df.LoanAmount)\n",
    "test_df.Total_income = np.log1p(test_df.Total_income)\n",
    "train_df.Income_Loan_Ratio = np.log1p(train_df.Income_Loan_Ratio)\n",
    "train_df.Loan_to_Income = np.log1p(train_df.Loan_to_Income)\n",
    "train_df.EMI = np.log1p(train_df.EMI)"
   ]
  },
  {
   "cell_type": "code",
   "execution_count": 11,
   "id": "f75010d0-584c-4722-9d41-54cd34d03c1e",
   "metadata": {
    "collapsed": true,
    "jupyter": {
     "outputs_hidden": true
    }
   },
   "outputs": [
    {
     "name": "stdout",
     "output_type": "stream",
     "text": [
      "Value counts for 'Gender':\n",
      "Gender\n",
      "Male      502\n",
      "Female    112\n",
      "Name: count, dtype: int64\n",
      "----------------------------------------\n",
      "Value counts for 'Married':\n",
      "Married\n",
      "Yes    401\n",
      "No     213\n",
      "Name: count, dtype: int64\n",
      "----------------------------------------\n",
      "Value counts for 'Dependents':\n",
      "Dependents\n",
      "0     360\n",
      "1     102\n",
      "2     101\n",
      "3+     51\n",
      "Name: count, dtype: int64\n",
      "----------------------------------------\n",
      "Value counts for 'Education':\n",
      "Education\n",
      "Graduate        480\n",
      "Not Graduate    134\n",
      "Name: count, dtype: int64\n",
      "----------------------------------------\n",
      "Value counts for 'Self_Employed':\n",
      "Self_Employed\n",
      "No     532\n",
      "Yes     82\n",
      "Name: count, dtype: int64\n",
      "----------------------------------------\n",
      "Value counts for 'Property_Area':\n",
      "Property_Area\n",
      "Semiurban    233\n",
      "Urban        202\n",
      "Rural        179\n",
      "Name: count, dtype: int64\n",
      "----------------------------------------\n",
      "Value counts for 'Loan_Status':\n",
      "Loan_Status\n",
      "Y    422\n",
      "N    192\n",
      "Name: count, dtype: int64\n",
      "----------------------------------------\n"
     ]
    }
   ],
   "source": [
    "for column in train_df.select_dtypes(include=['object']).columns:\n",
    "    print(f\"Value counts for '{column}':\\n{train_df[column].value_counts()}\\n{'-'*40}\")"
   ]
  },
  {
   "cell_type": "code",
   "execution_count": 167,
   "id": "8130b355-5d3d-49e3-8916-cb248abacce3",
   "metadata": {},
   "outputs": [],
   "source": [
    "from sklearn.preprocessing import LabelEncoder\n",
    "\n",
    "le = LabelEncoder()\n",
    "\n",
    "train_df['Gender'] = le.fit_transform(train_df['Gender']) \n",
    "train_df['Married'] = le.fit_transform(train_df['Married']) \n",
    "train_df['Education'] = le.fit_transform(train_df['Education']) \n",
    "train_df['Self_Employed'] = le.fit_transform(train_df['Self_Employed']) \n",
    "train_df['Loan_Status'] = le.fit_transform(train_df['Loan_Status']) \n",
    "\n",
    "test_df['Gender'] = le.fit_transform(test_df['Gender']) \n",
    "test_df['Married'] = le.fit_transform(test_df['Married']) \n",
    "test_df['Education'] = le.fit_transform(test_df['Education']) \n",
    "test_df['Self_Employed'] = le.fit_transform(test_df['Self_Employed']) "
   ]
  },
  {
   "cell_type": "code",
   "execution_count": 168,
   "id": "a1d6b511-469f-4248-8541-31824ec410d0",
   "metadata": {},
   "outputs": [
    {
     "name": "stderr",
     "output_type": "stream",
     "text": [
      "C:\\Users\\Risaal Khan\\AppData\\Local\\Temp\\ipykernel_15592\\3161566924.py:1: FutureWarning: Downcasting behavior in `replace` is deprecated and will be removed in a future version. To retain the old behavior, explicitly call `result.infer_objects(copy=False)`. To opt-in to the future behavior, set `pd.set_option('future.no_silent_downcasting', True)`\n",
      "  train_df.Dependents = train_df.Dependents.replace({'0':0, '1':1, '2':2, '3+':3})\n",
      "C:\\Users\\Risaal Khan\\AppData\\Local\\Temp\\ipykernel_15592\\3161566924.py:2: FutureWarning: Downcasting behavior in `replace` is deprecated and will be removed in a future version. To retain the old behavior, explicitly call `result.infer_objects(copy=False)`. To opt-in to the future behavior, set `pd.set_option('future.no_silent_downcasting', True)`\n",
      "  test_df.Dependents = test_df.Dependents.replace({'0':0, '1':1, '2':2, '3+':3})\n"
     ]
    }
   ],
   "source": [
    "train_df.Dependents = train_df.Dependents.replace({'0':0, '1':1, '2':2, '3+':3})\n",
    "test_df.Dependents = test_df.Dependents.replace({'0':0, '1':1, '2':2, '3+':3})"
   ]
  },
  {
   "cell_type": "code",
   "execution_count": 169,
   "id": "32e208ac-32de-4e1d-92aa-caa5f38ac5cd",
   "metadata": {},
   "outputs": [],
   "source": [
    "train_df = pd.get_dummies(train_df, columns=['Property_Area'])\n",
    "test_df = pd.get_dummies(test_df, columns=['Property_Area'])"
   ]
  },
  {
   "cell_type": "markdown",
   "id": "0c24522a-e622-4218-bcc9-118adb411c61",
   "metadata": {},
   "source": [
    "# Model Building"
   ]
  },
  {
   "cell_type": "code",
   "execution_count": 18,
   "id": "5ccbe2ef-71e4-4231-8ad4-d4369e8a134d",
   "metadata": {
    "collapsed": true,
    "jupyter": {
     "outputs_hidden": true
    }
   },
   "outputs": [
    {
     "name": "stdout",
     "output_type": "stream",
     "text": [
      "Collecting imblearn\n",
      "  Downloading imblearn-0.0-py2.py3-none-any.whl.metadata (355 bytes)\n",
      "Collecting imbalanced-learn (from imblearn)\n",
      "  Downloading imbalanced_learn-0.13.0-py3-none-any.whl.metadata (8.8 kB)\n",
      "Requirement already satisfied: numpy<3,>=1.24.3 in c:\\users\\risaal khan\\appdata\\local\\programs\\python\\python313\\lib\\site-packages (from imbalanced-learn->imblearn) (2.2.1)\n",
      "Requirement already satisfied: scipy<2,>=1.10.1 in c:\\users\\risaal khan\\appdata\\local\\programs\\python\\python313\\lib\\site-packages (from imbalanced-learn->imblearn) (1.14.1)\n",
      "Requirement already satisfied: scikit-learn<2,>=1.3.2 in c:\\users\\risaal khan\\appdata\\local\\programs\\python\\python313\\lib\\site-packages (from imbalanced-learn->imblearn) (1.6.0)\n",
      "Collecting sklearn-compat<1,>=0.1 (from imbalanced-learn->imblearn)\n",
      "  Downloading sklearn_compat-0.1.3-py3-none-any.whl.metadata (18 kB)\n",
      "Requirement already satisfied: joblib<2,>=1.1.1 in c:\\users\\risaal khan\\appdata\\local\\programs\\python\\python313\\lib\\site-packages (from imbalanced-learn->imblearn) (1.4.2)\n",
      "Requirement already satisfied: threadpoolctl<4,>=2.0.0 in c:\\users\\risaal khan\\appdata\\local\\programs\\python\\python313\\lib\\site-packages (from imbalanced-learn->imblearn) (3.5.0)\n",
      "Downloading imblearn-0.0-py2.py3-none-any.whl (1.9 kB)\n",
      "Downloading imbalanced_learn-0.13.0-py3-none-any.whl (238 kB)\n",
      "Downloading sklearn_compat-0.1.3-py3-none-any.whl (18 kB)\n",
      "Installing collected packages: sklearn-compat, imbalanced-learn, imblearn\n",
      "Successfully installed imbalanced-learn-0.13.0 imblearn-0.0 sklearn-compat-0.1.3\n",
      "Note: you may need to restart the kernel to use updated packages.\n"
     ]
    },
    {
     "name": "stderr",
     "output_type": "stream",
     "text": [
      "\n",
      "[notice] A new release of pip is available: 24.3.1 -> 25.0\n",
      "[notice] To update, run: python.exe -m pip install --upgrade pip\n"
     ]
    }
   ],
   "source": [
    "#pip install imblearn"
   ]
  },
  {
   "cell_type": "code",
   "execution_count": 171,
   "id": "673f57ac-bf86-42ad-a1d3-1d8355cca09a",
   "metadata": {},
   "outputs": [],
   "source": [
    "from imblearn.over_sampling import SMOTE\n",
    "\n",
    "smote = SMOTE(random_state=42)"
   ]
  },
  {
   "cell_type": "code",
   "execution_count": 172,
   "id": "3d0ae2b1-d5db-4b79-aa82-a1913847317e",
   "metadata": {},
   "outputs": [
    {
     "data": {
      "text/plain": [
       "Loan_Status\n",
       "1    422\n",
       "0    192\n",
       "Name: count, dtype: int64"
      ]
     },
     "execution_count": 172,
     "metadata": {},
     "output_type": "execute_result"
    }
   ],
   "source": [
    "from sklearn.model_selection import train_test_split\n",
    "\n",
    "X = train_df.drop('Loan_Status', axis=1)\n",
    "y = train_df.Loan_Status\n",
    "\n",
    "y.value_counts()"
   ]
  },
  {
   "cell_type": "code",
   "execution_count": 173,
   "id": "c6261f65-ae10-46a3-bfe9-7bc99f03312b",
   "metadata": {},
   "outputs": [],
   "source": [
    "X, y = smote.fit_resample(X, y)"
   ]
  },
  {
   "cell_type": "code",
   "execution_count": 174,
   "id": "2390aed8-b231-428a-b440-651e5fb66865",
   "metadata": {},
   "outputs": [
    {
     "data": {
      "text/plain": [
       "Loan_Status\n",
       "1    422\n",
       "0    422\n",
       "Name: count, dtype: int64"
      ]
     },
     "execution_count": 174,
     "metadata": {},
     "output_type": "execute_result"
    }
   ],
   "source": [
    "y.value_counts()"
   ]
  },
  {
   "cell_type": "code",
   "execution_count": 175,
   "id": "05f55b59-8bd7-482b-a619-c0dd4dc65ab8",
   "metadata": {},
   "outputs": [],
   "source": [
    "X_train, X_test, y_train, y_test = train_test_split(X, y, test_size=0.2, stratify=y, random_state=42)"
   ]
  },
  {
   "cell_type": "code",
   "execution_count": 177,
   "id": "24526897-d8bd-4233-ab29-bde18f8eec96",
   "metadata": {},
   "outputs": [
    {
     "name": "stdout",
     "output_type": "stream",
     "text": [
      "(675, 17)\n",
      "(169, 17)\n"
     ]
    }
   ],
   "source": [
    "print(X_train.shape)\n",
    "print(X_test.shape)"
   ]
  },
  {
   "cell_type": "code",
   "execution_count": 176,
   "id": "5aa60568-6839-4601-9e25-e1c10dda0725",
   "metadata": {},
   "outputs": [
    {
     "data": {
      "text/plain": [
       "Loan_Status\n",
       "1    338\n",
       "0    337\n",
       "Name: count, dtype: int64"
      ]
     },
     "execution_count": 176,
     "metadata": {},
     "output_type": "execute_result"
    }
   ],
   "source": [
    "y_train.value_counts()"
   ]
  },
  {
   "cell_type": "code",
   "execution_count": 178,
   "id": "c7793692-a295-4736-a386-f5831338cec3",
   "metadata": {},
   "outputs": [
    {
     "name": "stdout",
     "output_type": "stream",
     "text": [
      "Train size after SMOTE: 676\n"
     ]
    }
   ],
   "source": [
    "smote = SMOTE(random_state=42)\n",
    "\n",
    "X_train, y_train = smote.fit_resample(X_train, y_train)\n",
    "\n",
    "print(\"Train size after SMOTE:\", X_train.shape[0])"
   ]
  },
  {
   "cell_type": "code",
   "execution_count": 179,
   "id": "53a39e23-f31b-481f-835f-61eed470b2aa",
   "metadata": {},
   "outputs": [
    {
     "data": {
      "text/plain": [
       "Loan_Status\n",
       "0    338\n",
       "1    338\n",
       "Name: count, dtype: int64"
      ]
     },
     "execution_count": 179,
     "metadata": {},
     "output_type": "execute_result"
    }
   ],
   "source": [
    "y_train.value_counts()"
   ]
  },
  {
   "cell_type": "markdown",
   "id": "3cc25b13-04c3-4076-ad87-06989c4f4125",
   "metadata": {},
   "source": [
    "### Decision Tree"
   ]
  },
  {
   "cell_type": "code",
   "execution_count": 180,
   "id": "fbf81238-0795-4475-bce5-6dda9b45e0c7",
   "metadata": {},
   "outputs": [],
   "source": [
    "from sklearn.model_selection import GridSearchCV\n",
    "from sklearn.tree import DecisionTreeClassifier"
   ]
  },
  {
   "cell_type": "code",
   "execution_count": 181,
   "id": "1c4696f0-24ca-49ea-9bb7-fa48b8a4f325",
   "metadata": {},
   "outputs": [
    {
     "name": "stdout",
     "output_type": "stream",
     "text": [
      "Best Parameters: {'criterion': 'gini', 'max_depth': 7, 'max_features': 'sqrt', 'min_samples_leaf': 1, 'min_samples_split': 2}\n"
     ]
    }
   ],
   "source": [
    "param_grid = {\n",
    "    'max_depth': [3, 4, 5, 6, 7, 8, 9, 10],\n",
    "    'min_samples_split': [2, 5, 10],\n",
    "    'min_samples_leaf': [1, 2, 4],\n",
    "    'max_features': ['sqrt', 'log2'],\n",
    "    'criterion': ['gini', 'entropy']\n",
    "}\n",
    "\n",
    "clf = DecisionTreeClassifier(random_state=42)\n",
    "grid_search = GridSearchCV(estimator=clf, param_grid=param_grid, cv=5, n_jobs=-1)\n",
    "\n",
    "grid_search.fit(X_train, y_train)\n",
    "\n",
    "print(f'Best Parameters: {grid_search.best_params_}')\n",
    "best_clf = grid_search.best_estimator_"
   ]
  },
  {
   "cell_type": "code",
   "execution_count": 182,
   "id": "a9f31752-65a5-4627-9ab1-ace7b0acd35d",
   "metadata": {},
   "outputs": [
    {
     "name": "stdout",
     "output_type": "stream",
     "text": [
      "Cross-validation scores: [0.80882353 0.78518519 0.71851852 0.84444444 0.76296296]\n",
      "Mean cross-validation score: 0.7839869281045753\n"
     ]
    }
   ],
   "source": [
    "from sklearn.model_selection import cross_val_score\n",
    "\n",
    "scores = cross_val_score(best_clf, X_train, y_train, cv=5)\n",
    "print(f'Cross-validation scores: {scores}')\n",
    "print(f'Mean cross-validation score: {scores.mean()}')"
   ]
  },
  {
   "cell_type": "code",
   "execution_count": 183,
   "id": "89d96c26-c5b9-4acd-8069-baf67de77199",
   "metadata": {},
   "outputs": [
    {
     "data": {
      "text/plain": [
       "1    90\n",
       "0    79\n",
       "Name: count, dtype: int64"
      ]
     },
     "execution_count": 183,
     "metadata": {},
     "output_type": "execute_result"
    }
   ],
   "source": [
    "pred = best_clf.predict(X_test)\n",
    "pd.Series(pred).value_counts()"
   ]
  },
  {
   "cell_type": "code",
   "execution_count": 184,
   "id": "912e653c-1169-4412-be04-c120efced576",
   "metadata": {},
   "outputs": [
    {
     "data": {
      "text/html": [
       "<div>\n",
       "<style scoped>\n",
       "    .dataframe tbody tr th:only-of-type {\n",
       "        vertical-align: middle;\n",
       "    }\n",
       "\n",
       "    .dataframe tbody tr th {\n",
       "        vertical-align: top;\n",
       "    }\n",
       "\n",
       "    .dataframe thead th {\n",
       "        text-align: right;\n",
       "    }\n",
       "</style>\n",
       "<table border=\"1\" class=\"dataframe\">\n",
       "  <thead>\n",
       "    <tr style=\"text-align: right;\">\n",
       "      <th>col_0</th>\n",
       "      <th>0</th>\n",
       "      <th>1</th>\n",
       "    </tr>\n",
       "    <tr>\n",
       "      <th>Loan_Status</th>\n",
       "      <th></th>\n",
       "      <th></th>\n",
       "    </tr>\n",
       "  </thead>\n",
       "  <tbody>\n",
       "    <tr>\n",
       "      <th>0</th>\n",
       "      <td>69</td>\n",
       "      <td>16</td>\n",
       "    </tr>\n",
       "    <tr>\n",
       "      <th>1</th>\n",
       "      <td>10</td>\n",
       "      <td>74</td>\n",
       "    </tr>\n",
       "  </tbody>\n",
       "</table>\n",
       "</div>"
      ],
      "text/plain": [
       "col_0         0   1\n",
       "Loan_Status        \n",
       "0            69  16\n",
       "1            10  74"
      ]
     },
     "execution_count": 184,
     "metadata": {},
     "output_type": "execute_result"
    }
   ],
   "source": [
    "pd.crosstab(y_test, pred)"
   ]
  },
  {
   "cell_type": "code",
   "execution_count": 185,
   "id": "6e608dda-1c47-4e88-aaf4-f14cc690f18f",
   "metadata": {},
   "outputs": [
    {
     "data": {
      "text/plain": [
       "np.float64(0.8461538461538461)"
      ]
     },
     "execution_count": 185,
     "metadata": {},
     "output_type": "execute_result"
    }
   ],
   "source": [
    "np.mean(y_test==pred)"
   ]
  },
  {
   "cell_type": "code",
   "execution_count": 186,
   "id": "dc49545d-41ae-43e3-b753-e2d00aca265e",
   "metadata": {},
   "outputs": [
    {
     "name": "stdout",
     "output_type": "stream",
     "text": [
      "              precision    recall  f1-score   support\n",
      "\n",
      "           0       0.87      0.81      0.84        85\n",
      "           1       0.82      0.88      0.85        84\n",
      "\n",
      "    accuracy                           0.85       169\n",
      "   macro avg       0.85      0.85      0.85       169\n",
      "weighted avg       0.85      0.85      0.85       169\n",
      "\n"
     ]
    }
   ],
   "source": [
    "from sklearn.metrics import classification_report\n",
    "\n",
    "print(classification_report(y_test, pred))"
   ]
  },
  {
   "cell_type": "code",
   "execution_count": 187,
   "id": "5ca628c2-206f-404f-8c1f-ac02ef05f0cd",
   "metadata": {},
   "outputs": [
    {
     "data": {
      "text/plain": [
       "1    303\n",
       "0     64\n",
       "Name: count, dtype: int64"
      ]
     },
     "execution_count": 187,
     "metadata": {},
     "output_type": "execute_result"
    }
   ],
   "source": [
    "test_preds = best_clf.predict(test_df)\n",
    "pd.Series(test_preds).value_counts()"
   ]
  },
  {
   "cell_type": "markdown",
   "id": "b935247d-50ae-4ece-b37e-ab1d7030a1e8",
   "metadata": {},
   "source": [
    "### Random Forest"
   ]
  },
  {
   "cell_type": "code",
   "execution_count": 47,
   "id": "f32ffeae-c0d9-4524-881b-f45bc44d1349",
   "metadata": {},
   "outputs": [],
   "source": [
    "from sklearn.ensemble import RandomForestClassifier\n",
    "from sklearn.model_selection import GridSearchCV"
   ]
  },
  {
   "cell_type": "code",
   "execution_count": 200,
   "id": "5476e9b3-1ce4-4728-879d-97283ecf0b92",
   "metadata": {},
   "outputs": [
    {
     "name": "stdout",
     "output_type": "stream",
     "text": [
      "Fitting 5 folds for each of 512 candidates, totalling 2560 fits\n",
      "Best Parameters: {'bootstrap': False, 'criterion': 'entropy', 'max_depth': 10, 'max_features': 'sqrt', 'min_samples_leaf': 5, 'min_samples_split': 20, 'n_estimators': 200}\n"
     ]
    }
   ],
   "source": [
    "param_grid = {\n",
    "    'n_estimators': [50, 100, 200, 300],  # Number of trees in the forest\n",
    "    'max_depth': [None, 10, 20, 30],\n",
    "    'min_samples_split': [10, 20],  # Minimum number of samples required to split an internal node\n",
    "    'min_samples_leaf': [5, 10],  # Minimum number of samples required to be at a leaf node\n",
    "    'max_features': ['sqrt', 'log2'],  # Number of features to consider when looking for the best split\n",
    "    'bootstrap': [True, False],  # Whether to use bootstrapped samples\n",
    "    'criterion': ['gini', 'entropy']  # Splitting criterion\n",
    "}\n",
    "\n",
    "rf = RandomForestClassifier(class_weight={0: 1.5, 1: 1}, random_state=42)\n",
    "grid_search = GridSearchCV(estimator=rf, param_grid=param_grid, cv=5, n_jobs=-1, verbose=1, scoring='precision')\n",
    "grid_search.fit(X_train, y_train)\n",
    "\n",
    "print(f'Best Parameters: {grid_search.best_params_}')\n",
    "best_rf = grid_search.best_estimator_"
   ]
  },
  {
   "cell_type": "code",
   "execution_count": 201,
   "id": "e051613a-124d-43a5-b8c4-5fd8978ff8a0",
   "metadata": {},
   "outputs": [
    {
     "name": "stdout",
     "output_type": "stream",
     "text": [
      "Cross-validation scores: [0.84285714 0.76811594 0.7761194  0.87878788 0.81578947]\n",
      "Mean cross-validation score: 0.8163339680686585\n"
     ]
    }
   ],
   "source": [
    "from sklearn.model_selection import cross_val_score\n",
    "\n",
    "scores = cross_val_score(best_rf, X_train, y_train, cv=5, scoring='precision')\n",
    "print(f'Cross-validation scores: {scores}')\n",
    "print(f'Mean cross-validation score: {scores.mean()}')"
   ]
  },
  {
   "cell_type": "code",
   "execution_count": 202,
   "id": "f57e02c1-c03f-4801-a658-0704a7bf08cf",
   "metadata": {},
   "outputs": [
    {
     "data": {
      "text/plain": [
       "0    85\n",
       "1    84\n",
       "Name: count, dtype: int64"
      ]
     },
     "execution_count": 202,
     "metadata": {},
     "output_type": "execute_result"
    }
   ],
   "source": [
    "preds = best_rf.predict(X_test)\n",
    "pd.Series(preds).value_counts()"
   ]
  },
  {
   "cell_type": "code",
   "execution_count": 203,
   "id": "6b5d9077-5fd8-47ff-a1c4-8e40d21b90a2",
   "metadata": {},
   "outputs": [
    {
     "data": {
      "text/html": [
       "<div>\n",
       "<style scoped>\n",
       "    .dataframe tbody tr th:only-of-type {\n",
       "        vertical-align: middle;\n",
       "    }\n",
       "\n",
       "    .dataframe tbody tr th {\n",
       "        vertical-align: top;\n",
       "    }\n",
       "\n",
       "    .dataframe thead th {\n",
       "        text-align: right;\n",
       "    }\n",
       "</style>\n",
       "<table border=\"1\" class=\"dataframe\">\n",
       "  <thead>\n",
       "    <tr style=\"text-align: right;\">\n",
       "      <th>col_0</th>\n",
       "      <th>0</th>\n",
       "      <th>1</th>\n",
       "    </tr>\n",
       "    <tr>\n",
       "      <th>Loan_Status</th>\n",
       "      <th></th>\n",
       "      <th></th>\n",
       "    </tr>\n",
       "  </thead>\n",
       "  <tbody>\n",
       "    <tr>\n",
       "      <th>0</th>\n",
       "      <td>75</td>\n",
       "      <td>10</td>\n",
       "    </tr>\n",
       "    <tr>\n",
       "      <th>1</th>\n",
       "      <td>10</td>\n",
       "      <td>74</td>\n",
       "    </tr>\n",
       "  </tbody>\n",
       "</table>\n",
       "</div>"
      ],
      "text/plain": [
       "col_0         0   1\n",
       "Loan_Status        \n",
       "0            75  10\n",
       "1            10  74"
      ]
     },
     "execution_count": 203,
     "metadata": {},
     "output_type": "execute_result"
    }
   ],
   "source": [
    "pd.crosstab(y_test, preds)"
   ]
  },
  {
   "cell_type": "code",
   "execution_count": 204,
   "id": "436612ac-6833-4c97-b697-129103d929c1",
   "metadata": {},
   "outputs": [
    {
     "data": {
      "text/plain": [
       "np.float64(0.8816568047337278)"
      ]
     },
     "execution_count": 204,
     "metadata": {},
     "output_type": "execute_result"
    }
   ],
   "source": [
    "np.mean(y_test==preds)"
   ]
  },
  {
   "cell_type": "code",
   "execution_count": 205,
   "id": "3072477e-2db7-4d23-9720-15c33fc5fbd8",
   "metadata": {},
   "outputs": [
    {
     "name": "stdout",
     "output_type": "stream",
     "text": [
      "              precision    recall  f1-score   support\n",
      "\n",
      "           0       0.88      0.88      0.88        85\n",
      "           1       0.88      0.88      0.88        84\n",
      "\n",
      "    accuracy                           0.88       169\n",
      "   macro avg       0.88      0.88      0.88       169\n",
      "weighted avg       0.88      0.88      0.88       169\n",
      "\n"
     ]
    }
   ],
   "source": [
    "print(classification_report(y_test,preds))"
   ]
  },
  {
   "cell_type": "code",
   "execution_count": 206,
   "id": "e8ac79f3-d1d0-45b7-893c-0b8f3cb402c8",
   "metadata": {},
   "outputs": [
    {
     "data": {
      "text/plain": [
       "1    253\n",
       "0    114\n",
       "Name: count, dtype: int64"
      ]
     },
     "execution_count": 206,
     "metadata": {},
     "output_type": "execute_result"
    }
   ],
   "source": [
    "test_preds = best_rf.predict(test_df)\n",
    "pd.Series(test_preds).value_counts()"
   ]
  },
  {
   "cell_type": "markdown",
   "id": "e1cd5042-80cb-4aef-bccd-7f2926833a86",
   "metadata": {},
   "source": [
    "## Feature Selection"
   ]
  },
  {
   "cell_type": "code",
   "execution_count": 207,
   "id": "9f4ed818-1385-44dd-bc16-d5309e9ec823",
   "metadata": {},
   "outputs": [],
   "source": [
    "importances = best_rf.feature_importances_\n",
    "sorted_indices = np.argsort(importances)[::-1]"
   ]
  },
  {
   "cell_type": "code",
   "execution_count": 208,
   "id": "a1be4561-770b-40aa-a3c8-8aa6564b9adf",
   "metadata": {},
   "outputs": [
    {
     "name": "stdout",
     "output_type": "stream",
     "text": [
      "Credit_History: 0.40707188922277016\n",
      "ApplicantIncome: 0.06512771858160456\n",
      "Total_income: 0.06217069466302695\n",
      "EMI: 0.05607772164355459\n",
      "Loan_to_Income: 0.05361322083046987\n",
      "Property_Area_Rural: 0.0504143484798709\n",
      "Income_Loan_Ratio: 0.04810132334353752\n",
      "CoapplicantIncome: 0.0477236739378632\n",
      "LoanAmount: 0.046779180301409325\n",
      "Property_Area_Urban: 0.043377797339009615\n",
      "Property_Area_Semiurban: 0.03822585082535932\n",
      "Married: 0.03540880803930925\n",
      "Loan_Amount_Term: 0.01963348503259807\n",
      "Dependents: 0.014255968046934788\n",
      "Gender: 0.004465740780962778\n",
      "Education: 0.004184105883041071\n",
      "Self_Employed: 0.0033684730486780107\n"
     ]
    }
   ],
   "source": [
    "for idx in sorted_indices:\n",
    "    print(f\"{X_train.columns[idx]}: {importances[idx]}\")"
   ]
  },
  {
   "cell_type": "code",
   "execution_count": 210,
   "id": "197d3f7a-a8ed-491f-851f-c1cebbea4289",
   "metadata": {},
   "outputs": [],
   "source": [
    "feature_df = pd.DataFrame({'Feature': X_train.columns, 'Importance': importances})\n",
    "\n",
    "feature_df = feature_df.sort_values(by='Importance', ascending=False)"
   ]
  },
  {
   "cell_type": "code",
   "execution_count": 211,
   "id": "f16c37d4-bcfe-481d-a4d6-5f4778aa8d6d",
   "metadata": {},
   "outputs": [
    {
     "name": "stderr",
     "output_type": "stream",
     "text": [
      "C:\\Users\\Risaal Khan\\AppData\\Local\\Temp\\ipykernel_15592\\559781613.py:2: FutureWarning: \n",
      "\n",
      "Passing `palette` without assigning `hue` is deprecated and will be removed in v0.14.0. Assign the `y` variable to `hue` and set `legend=False` for the same effect.\n",
      "\n",
      "  sns.barplot(x='Importance', y='Feature', data=feature_df, palette='viridis')\n"
     ]
    },
    {
     "data": {
      "image/png": "[encoded data removed]",
      "text/plain": [
       "<Figure size 1000x600 with 1 Axes>"
      ]
     },
     "metadata": {},
     "output_type": "display_data"
    }
   ],
   "source": [
    "plt.figure(figsize=(10, 6))\n",
    "sns.barplot(x='Importance', y='Feature', data=feature_df, palette='viridis')\n",
    "\n",
    "plt.title('Feature Importances in Random Forest Model', fontsize=14)\n",
    "plt.xlabel('Importance Score')\n",
    "plt.ylabel('Feature Name')\n",
    "\n",
    "plt.show()"
   ]
  },
  {
   "cell_type": "code",
   "execution_count": 212,
   "id": "e74289b6-7260-461f-ba74-24947c719ad3",
   "metadata": {},
   "outputs": [],
   "source": [
    "drop_cols = ['Gender', 'Education', 'Self_Employed', 'Dependents']\n",
    "\n",
    "X_train = X_train.drop(columns=drop_cols)\n",
    "X_test = X_test.drop(columns=drop_cols)\n",
    "test_df = test_df.drop(columns=drop_cols)"
   ]
  },
  {
   "cell_type": "code",
   "execution_count": 213,
   "id": "fc1b41dc-b9e9-4c3e-978d-ae3afd6f6bb6",
   "metadata": {},
   "outputs": [
    {
     "name": "stdout",
     "output_type": "stream",
     "text": [
      "Fitting 5 folds for each of 512 candidates, totalling 2560 fits\n",
      "Best Parameters: {'bootstrap': False, 'criterion': 'entropy', 'max_depth': 10, 'max_features': 'sqrt', 'min_samples_leaf': 5, 'min_samples_split': 10, 'n_estimators': 100}\n"
     ]
    }
   ],
   "source": [
    "param_grid = {\n",
    "    'n_estimators': [50, 100, 200, 300],  # Number of trees in the forest\n",
    "    'max_depth': [None, 10, 20, 30],\n",
    "    'min_samples_split': [10, 20],  # Minimum number of samples required to split an internal node\n",
    "    'min_samples_leaf': [5, 10],  # Minimum number of samples required to be at a leaf node\n",
    "    'max_features': ['sqrt', 'log2'],  # Number of features to consider when looking for the best split\n",
    "    'bootstrap': [True, False],  # Whether to use bootstrapped samples\n",
    "    'criterion': ['gini', 'entropy']  # Splitting criterion\n",
    "}\n",
    "\n",
    "rf = RandomForestClassifier(class_weight={0: 1.5, 1: 1}, random_state=42)\n",
    "grid_search = GridSearchCV(estimator=rf, param_grid=param_grid, cv=5, n_jobs=-1, verbose=1, scoring='precision')\n",
    "grid_search.fit(X_train, y_train)\n",
    "\n",
    "print(f'Best Parameters: {grid_search.best_params_}')\n",
    "best_rf = grid_search.best_estimator_"
   ]
  },
  {
   "cell_type": "code",
   "execution_count": 214,
   "id": "82d71eb5-36d7-4801-9eb7-43f10a125c30",
   "metadata": {},
   "outputs": [
    {
     "name": "stdout",
     "output_type": "stream",
     "text": [
      "Cross-validation scores: [0.86764706 0.77777778 0.76923077 0.86153846 0.80263158]\n",
      "Mean cross-validation score: 0.8157651292635812\n"
     ]
    }
   ],
   "source": [
    "from sklearn.model_selection import cross_val_score\n",
    "\n",
    "scores = cross_val_score(best_rf, X_train, y_train, cv=5, scoring='precision')\n",
    "print(f'Cross-validation scores: {scores}')\n",
    "print(f'Mean cross-validation score: {scores.mean()}')"
   ]
  },
  {
   "cell_type": "code",
   "execution_count": 215,
   "id": "0342e5aa-6736-492f-826d-dbbc2ce12086",
   "metadata": {},
   "outputs": [
    {
     "data": {
      "text/plain": [
       "0    87\n",
       "1    82\n",
       "Name: count, dtype: int64"
      ]
     },
     "execution_count": 215,
     "metadata": {},
     "output_type": "execute_result"
    }
   ],
   "source": [
    "preds = best_rf.predict(X_test)\n",
    "pd.Series(preds).value_counts()"
   ]
  },
  {
   "cell_type": "code",
   "execution_count": 217,
   "id": "27a096af-874f-4572-a13e-42c07614d22a",
   "metadata": {},
   "outputs": [
    {
     "data": {
      "text/plain": [
       "np.float64(0.8816568047337278)"
      ]
     },
     "execution_count": 217,
     "metadata": {},
     "output_type": "execute_result"
    }
   ],
   "source": [
    "np.mean(y_test==preds)"
   ]
  },
  {
   "cell_type": "code",
   "execution_count": 218,
   "id": "1260925a-0eb8-4425-b5e7-83952f42e105",
   "metadata": {},
   "outputs": [
    {
     "data": {
      "text/html": [
       "<div>\n",
       "<style scoped>\n",
       "    .dataframe tbody tr th:only-of-type {\n",
       "        vertical-align: middle;\n",
       "    }\n",
       "\n",
       "    .dataframe tbody tr th {\n",
       "        vertical-align: top;\n",
       "    }\n",
       "\n",
       "    .dataframe thead th {\n",
       "        text-align: right;\n",
       "    }\n",
       "</style>\n",
       "<table border=\"1\" class=\"dataframe\">\n",
       "  <thead>\n",
       "    <tr style=\"text-align: right;\">\n",
       "      <th>col_0</th>\n",
       "      <th>0</th>\n",
       "      <th>1</th>\n",
       "    </tr>\n",
       "    <tr>\n",
       "      <th>Loan_Status</th>\n",
       "      <th></th>\n",
       "      <th></th>\n",
       "    </tr>\n",
       "  </thead>\n",
       "  <tbody>\n",
       "    <tr>\n",
       "      <th>0</th>\n",
       "      <td>76</td>\n",
       "      <td>9</td>\n",
       "    </tr>\n",
       "    <tr>\n",
       "      <th>1</th>\n",
       "      <td>11</td>\n",
       "      <td>73</td>\n",
       "    </tr>\n",
       "  </tbody>\n",
       "</table>\n",
       "</div>"
      ],
      "text/plain": [
       "col_0         0   1\n",
       "Loan_Status        \n",
       "0            76   9\n",
       "1            11  73"
      ]
     },
     "execution_count": 218,
     "metadata": {},
     "output_type": "execute_result"
    }
   ],
   "source": [
    "pd.crosstab(y_test, preds)"
   ]
  },
  {
   "cell_type": "code",
   "execution_count": 219,
   "id": "6cae19be-08b5-40f4-be37-8f50acb87174",
   "metadata": {},
   "outputs": [
    {
     "name": "stdout",
     "output_type": "stream",
     "text": [
      "              precision    recall  f1-score   support\n",
      "\n",
      "           0       0.87      0.89      0.88        85\n",
      "           1       0.89      0.87      0.88        84\n",
      "\n",
      "    accuracy                           0.88       169\n",
      "   macro avg       0.88      0.88      0.88       169\n",
      "weighted avg       0.88      0.88      0.88       169\n",
      "\n"
     ]
    }
   ],
   "source": [
    "print(classification_report(y_test, preds))"
   ]
  },
  {
   "cell_type": "code",
   "execution_count": 220,
   "id": "c8d5227b-2bee-402e-ac16-e5f0060c8b9a",
   "metadata": {},
   "outputs": [
    {
     "data": {
      "text/plain": [
       "1    245\n",
       "0    122\n",
       "Name: count, dtype: int64"
      ]
     },
     "execution_count": 220,
     "metadata": {},
     "output_type": "execute_result"
    }
   ],
   "source": [
    "test_preds = best_rf.predict(test_df)\n",
    "pd.Series(test_preds).value_counts()"
   ]
  },
  {
   "cell_type": "code",
   "execution_count": 221,
   "id": "e1e3d1da-e6ef-41c2-b0f3-d199821e2afd",
   "metadata": {},
   "outputs": [
    {
     "data": {
      "text/plain": [
       "['loan_model.pkl']"
      ]
     },
     "execution_count": 221,
     "metadata": {},
     "output_type": "execute_result"
    }
   ],
   "source": [
    "# import joblib\n",
    "\n",
    "# joblib.dump(best_rf, 'loan_model.pkl')"
   ]
  },
  {
   "cell_type": "markdown",
   "id": "288cc4d9-ceb5-4991-8ed3-e9dae0aac79a",
   "metadata": {},
   "source": [
    "# 📌 Report on Model Performance and Selection\n",
    "\n",
    "## 1️⃣ Introduction\n",
    "* Objective: To predict loan approval based on applicant details.\n",
    "* Models Tested: Decision Tree and Random Forest.\n",
    "* Evaluation Metrics: Accuracy, Precision, Recall, Cross-validation score, and False Positives.\n",
    "\n",
    "## 2️⃣ Model Performance Comparison\n",
    "\n",
    "| Metric                          | Decision Tree | Random Forest | Random Forest (Feature Importance) |\n",
    "|---------------------------------|--------------|--------------|----------------------------------|\n",
    "| **Test Accuracy**               | 85%          | 89%          | **89%** |\n",
    "| **Cross-validation Score**      | 78%          | 82%        | **82%** |\n",
    "| **Precision (Negative)** | 87%      | 88%          | **87%** |\n",
    "| **Precision (Positive)** | 82%      | 88%          | **89%** |\n",
    "| **Recall (Negative)** | 81%      | 88%          | **89%** |\n",
    "| **Recall (Positive)** | 88%      | 88%          | **88%** |\n",
    "| **False Positives (Loans wrongly approved)** | 16 | 10 | **9 (Best!)** |\n",
    "\n",
    "✅ **Best Model**: Random Forest with Feature Importance (Optimized Model) 🚀\n",
    "\n",
    "## Confusion Matrix Insights:\n",
    "* Random Forest had fewer false positives, making it the better choice for minimizing risky loan approvals.\n",
    "* Decision Tree performed well but overfitted slightly due to its single-tree nature.\n",
    "\n",
    "## 3️⃣ Feature Importance Analysis\n",
    "### Top 5 Influential Features in Random Forest:\n",
    "* Credit History - 40.7%\n",
    "* Applicant Income - 6.5%\n",
    "* Total Income - 6.2%\n",
    "* EMI - 5.6%\n",
    "* Loan-to-Income Ratio - 5.3%\n",
    "\n",
    "### Less Important Features:\n",
    "* Gender, Education, and Self_Employed had low impact and can be reconsidered in feature selection.\n",
    "\n",
    "## 4️⃣ Final Model Selection\n",
    "Random Forest is the best model based on: \n",
    "* ✅ Higher accuracy (89%) and cross-validation score (82%)\n",
    "* ✅ Lower false positives (9 instead of 16 in Decision Tree)\n",
    "* ✅ Better generalization and less overfitting compared to Decision Tree"
   ]
  },
  {
   "cell_type": "code",
   "execution_count": null,
   "id": "4d71b335-a221-41df-9fde-e6a707d1456a",
   "metadata": {},
   "outputs": [],
   "source": []
  }
 ],
 "metadata": {
  "kernelspec": {
   "display_name": "Python 3 (ipykernel)",
   "language": "python",
   "name": "python3"
  },
  "language_info": {
   "codemirror_mode": {
    "name": "ipython",
    "version": 3
   },
   "file_extension": ".py",
   "mimetype": "text/x-python",
   "name": "python",
   "nbconvert_exporter": "python",
   "pygments_lexer": "ipython3",
   "version": "3.13.1"
  }
 },
 "nbformat": 4,
 "nbformat_minor": 5
}
